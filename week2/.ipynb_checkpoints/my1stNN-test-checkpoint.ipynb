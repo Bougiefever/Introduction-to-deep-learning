{
 "cells": [
  {
   "cell_type": "code",
   "execution_count": 1,
   "metadata": {},
   "outputs": [
    {
     "name": "stderr",
     "output_type": "stream",
     "text": [
      "/home/sid/anaconda3/lib/python3.6/site-packages/h5py/__init__.py:36: FutureWarning: Conversion of the second argument of issubdtype from `float` to `np.floating` is deprecated. In future, it will be treated as `np.float64 == np.dtype(float).type`.\n",
      "  from ._conv import register_converters as _register_converters\n",
      "Using TensorFlow backend.\n"
     ]
    },
    {
     "name": "stdout",
     "output_type": "stream",
     "text": [
      "(50000, 28, 28) (50000,)\n"
     ]
    },
    {
     "data": {
      "image/png": "[encoded data removed]",
      "text/plain": [
       "<matplotlib.figure.Figure at 0x7f4b5eebf7b8>"
      ]
     },
     "metadata": {},
     "output_type": "display_data"
    }
   ],
   "source": [
    "from preprocessed_mnist import load_dataset\n",
    "X_train, y_train, X_val, y_val, X_test, y_test = load_dataset()\n",
    "print(X_train.shape, y_train.shape)\n",
    "import matplotlib.pyplot as plt\n",
    "%matplotlib inline\n",
    "plt.imshow(X_train[0], cmap=\"Greys\");"
   ]
  },
  {
   "cell_type": "code",
   "execution_count": 2,
   "metadata": {},
   "outputs": [],
   "source": [
    "import tensorflow as tf\n",
    "import numpy as np\n",
    "from tqdm import trange"
   ]
  },
  {
   "cell_type": "code",
   "execution_count": 3,
   "metadata": {},
   "outputs": [],
   "source": [
    "def transformed(x, y):\n",
    "    x_trans = np.reshape(x,[x.shape[0], -1])\n",
    "    y_trans = (np.arange(num_labels) == y[:,None]).astype(np.float32)\n",
    "    return x_reformated, y_reformated"
   ]
  },
  {
   "cell_type": "code",
   "execution_count": 4,
   "metadata": {},
   "outputs": [],
   "source": [
    "def iterate_minibatches(inputs, targets, batchsize):\n",
    "    indices = np.random.permutation(len(inputs))\n",
    "    for start_idx in trange(0, len(inputs) - batchsize + 1, batchsize):\n",
    "        excerpt = indices[start_idx:start_idx + batchsize]\n",
    "        yield inputs[excerpt], targets[excerpt]"
   ]
  },
  {
   "cell_type": "code",
   "execution_count": 5,
   "metadata": {},
   "outputs": [],
   "source": [
    "def accuracy(predictions, labels):\n",
    "    return (100.0 * np.sum(np.argmax(predictions, 1) == np.argmax(labels, 1))\n",
    "            / predictions.shape[0])"
   ]
  },
  {
   "cell_type": "code",
   "execution_count": 6,
   "metadata": {},
   "outputs": [],
   "source": [
    "# Initialize shape vars\n",
    "tf.reset_default_graph()\n",
    "num_features = X_train.shape[1]*X_train.shape[2]\n",
    "num_neurons_layer_1 = 512\n",
    "num_labels = 10"
   ]
  },
  {
   "cell_type": "code",
   "execution_count": 7,
   "metadata": {},
   "outputs": [],
   "source": [
    "# Reformat data (flattened)\n",
    "X_train_reformated, y_train_reformated = reformat(X_train, y_train)\n",
    "X_val_reformated, y_val_reformated = reformat(X_val, y_val)\n",
    "X_test_reformated, y_test_reformated = reformat(X_test, y_test)"
   ]
  },
  {
   "cell_type": "code",
   "execution_count": 8,
   "metadata": {},
   "outputs": [],
   "source": [
    "# Model parameters - weights and bias\n",
    "W1 = tf.get_variable(\"W1\", [num_features, num_neurons_layer_1], \n",
    "                     initializer = tf.contrib.layers.xavier_initializer(seed = 1))\n",
    "b1 = tf.get_variable(\"b1\", [num_neurons_layer_1], initializer = tf.zeros_initializer())\n",
    "\n",
    "W2 = tf.get_variable(\"W2\", [num_neurons_layer_1, num_labels], \n",
    "                     initializer = tf.contrib.layers.xavier_initializer(seed = 1),\n",
    "                     regularizer = tf.contrib.layers.l2_regularizer(scale=0.25))\n",
    "b2 = tf.get_variable(\"b2\", [num_labels], initializer = tf.zeros_initializer())"
   ]
  },
  {
   "cell_type": "code",
   "execution_count": 9,
   "metadata": {
    "collapsed": true
   },
   "outputs": [],
   "source": [
    "# Placeholders for the input data\n",
    "input_X = tf.placeholder(tf.float32, shape=[None, num_features])\n",
    "input_y = tf.placeholder(tf.float32, shape=[None, num_labels])"
   ]
  },
  {
   "cell_type": "code",
   "execution_count": 10,
   "metadata": {
    "collapsed": true
   },
   "outputs": [],
   "source": [
    "# The model code\n",
    "hidden_layer_1 = tf.nn.relu(tf.matmul(input_X, W1) + b1)\n",
    "\n",
    "prediction_y = tf.nn.softmax(tf.matmul(hidden_layer_1, W2) + b2)\n",
    "\n",
    "loss = tf.reduce_mean(\n",
    "    tf.nn.softmax_cross_entropy_with_logits(logits=prediction_y, labels=input_y))\n",
    "\n",
    "optimizer = tf.train.AdamOptimizer(0.001, 0.75, 0.88).minimize(loss)"
   ]
  },
  {
   "cell_type": "code",
   "execution_count": 11,
   "metadata": {},
   "outputs": [
    {
     "name": "stderr",
     "output_type": "stream",
     "text": [
      "100%|██████████| 384/384 [00:08<00:00, 45.61it/s]\n",
      "  1%|▏         | 5/384 [00:00<00:08, 47.20it/s]"
     ]
    },
    {
     "name": "stdout",
     "output_type": "stream",
     "text": [
      "Epoch: 0 - Train accuracy: 94.428, Val accuracy: 94.89\n"
     ]
    },
    {
     "name": "stderr",
     "output_type": "stream",
     "text": [
      "100%|██████████| 384/384 [00:08<00:00, 46.71it/s]\n",
      "100%|██████████| 384/384 [00:08<00:00, 45.61it/s]\n",
      "100%|██████████| 384/384 [00:08<00:00, 47.59it/s]\n",
      "100%|██████████| 384/384 [00:08<00:00, 47.37it/s]\n",
      "100%|██████████| 384/384 [00:08<00:00, 45.74it/s]\n",
      "  1%|▏         | 5/384 [00:00<00:07, 48.08it/s]"
     ]
    },
    {
     "name": "stdout",
     "output_type": "stream",
     "text": [
      "Epoch: 5 - Train accuracy: 98.358, Val accuracy: 97.46\n"
     ]
    },
    {
     "name": "stderr",
     "output_type": "stream",
     "text": [
      "100%|██████████| 384/384 [00:08<00:00, 45.49it/s]\n",
      "100%|██████████| 384/384 [00:08<00:00, 46.39it/s]\n",
      "100%|██████████| 384/384 [00:08<00:00, 46.65it/s]\n",
      "100%|██████████| 384/384 [00:08<00:00, 46.78it/s]\n",
      "100%|██████████| 384/384 [00:08<00:00, 46.61it/s]\n",
      "  1%|▏         | 5/384 [00:00<00:08, 45.52it/s]"
     ]
    },
    {
     "name": "stdout",
     "output_type": "stream",
     "text": [
      "Epoch: 10 - Train accuracy: 99.068, Val accuracy: 97.64\n"
     ]
    },
    {
     "name": "stderr",
     "output_type": "stream",
     "text": [
      "100%|██████████| 384/384 [00:08<00:00, 46.80it/s]\n",
      "100%|██████████| 384/384 [00:08<00:00, 44.93it/s]\n",
      "100%|██████████| 384/384 [00:08<00:00, 46.80it/s]\n",
      "100%|██████████| 384/384 [00:08<00:00, 46.56it/s]\n",
      "100%|██████████| 384/384 [00:07<00:00, 49.66it/s]\n",
      "  1%|▏         | 5/384 [00:00<00:07, 49.06it/s]"
     ]
    },
    {
     "name": "stdout",
     "output_type": "stream",
     "text": [
      "Epoch: 15 - Train accuracy: 99.404, Val accuracy: 97.9\n"
     ]
    },
    {
     "name": "stderr",
     "output_type": "stream",
     "text": [
      "100%|██████████| 384/384 [00:07<00:00, 49.04it/s]\n",
      "100%|██████████| 384/384 [00:07<00:00, 48.10it/s]\n",
      "100%|██████████| 384/384 [00:07<00:00, 49.36it/s]\n",
      "100%|██████████| 384/384 [00:07<00:00, 48.53it/s]\n",
      "100%|██████████| 384/384 [00:07<00:00, 51.87it/s]\n",
      "  2%|▏         | 6/384 [00:00<00:06, 55.73it/s]"
     ]
    },
    {
     "name": "stdout",
     "output_type": "stream",
     "text": [
      "Epoch: 20 - Train accuracy: 99.534, Val accuracy: 98.0\n"
     ]
    },
    {
     "name": "stderr",
     "output_type": "stream",
     "text": [
      "100%|██████████| 384/384 [00:07<00:00, 51.60it/s]\n",
      "100%|██████████| 384/384 [00:07<00:00, 51.25it/s]\n",
      "100%|██████████| 384/384 [00:07<00:00, 50.92it/s]\n",
      "100%|██████████| 384/384 [00:07<00:00, 51.23it/s]\n",
      "100%|██████████| 384/384 [00:07<00:00, 49.10it/s]\n"
     ]
    },
    {
     "name": "stdout",
     "output_type": "stream",
     "text": [
      "Epoch: 25 - Train accuracy: 99.552, Val accuracy: 97.92\n"
     ]
    },
    {
     "data": {
      "image/png": "[encoded data removed]",
      "text/plain": [
       "<matplotlib.figure.Figure at 0x7f79b7238a90>"
      ]
     },
     "metadata": {},
     "output_type": "display_data"
    },
    {
     "name": "stdout",
     "output_type": "stream",
     "text": [
      "Test accuracy:  98.14\n",
      "CPU times: user 6min 39s, sys: 37.2 s, total: 7min 17s\n",
      "Wall time: 3min 58s\n"
     ]
    }
   ],
   "source": [
    "%%time\n",
    "with tf.Session() as s:\n",
    "    test_cost = []\n",
    "    val_cost = []\n",
    "    s.run(tf.global_variables_initializer())\n",
    "    for epoch in range(26):\n",
    "        for x_batch, y_batch in iterate_minibatches(X_train_reformated,y_train_reformated,batchsize=130):\n",
    "            s.run(optimizer, {input_X: x_batch, input_y: y_batch})\n",
    "\n",
    "        test_cost.append(s.run(loss, {input_X: X_test_reformated, input_y: y_test_reformated}))\n",
    "        val_cost.append(s.run(loss, {input_X: X_val_reformated, input_y: y_val_reformated}))\n",
    "\n",
    "        if epoch % 5 == 0:\n",
    "            train_acc = accuracy(s.run(prediction_y, {input_X: X_train_reformated}), y_train_reformated)\n",
    "            val_acc = accuracy(s.run(prediction_y, {input_X: X_val_reformated}), y_val_reformated)\n",
    "            print(f'Epoch: {epoch} - Train accuracy: {train_acc}, Val accuracy: {val_acc}')\n",
    "\n",
    "    plt.plot(test_cost, label='test')\n",
    "    plt.plot(val_cost, label='val')\n",
    "    plt.ylabel('Cost')\n",
    "    plt.xlabel('Epochs')\n",
    "    plt.legend(loc='best')\n",
    "    plt.grid()\n",
    "\n",
    "    plt.show()\n",
    "    \n",
    "    print(\"Test accuracy: \", \n",
    "          accuracy(s.run(prediction_y, {input_X: X_test_reformated}), y_test_reformated))"
   ]
  },
  {
   "cell_type": "code",
   "execution_count": null,
   "metadata": {
    "collapsed": true
   },
   "outputs": [],
   "source": []
  }
 ],
 "metadata": {
  "kernelspec": {
   "display_name": "Python 3",
   "language": "python",
   "name": "python3"
  },
  "language_info": {
   "codemirror_mode": {
    "name": "ipython",
    "version": 3
   },
   "file_extension": ".py",
   "mimetype": "text/x-python",
   "name": "python",
   "nbconvert_exporter": "python",
   "pygments_lexer": "ipython3",
   "version": "3.6.4"
  }
 },
 "nbformat": 4,
 "nbformat_minor": 2
}

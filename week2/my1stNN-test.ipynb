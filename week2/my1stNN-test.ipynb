{
 "cells": [
  {
   "cell_type": "code",
   "execution_count": 1,
   "metadata": {},
   "outputs": [
    {
     "name": "stderr",
     "output_type": "stream",
     "text": [
      "/home/sid/anaconda3/lib/python3.6/site-packages/h5py/__init__.py:36: FutureWarning: Conversion of the second argument of issubdtype from `float` to `np.floating` is deprecated. In future, it will be treated as `np.float64 == np.dtype(float).type`.\n",
      "  from ._conv import register_converters as _register_converters\n",
      "Using TensorFlow backend.\n"
     ]
    },
    {
     "name": "stdout",
     "output_type": "stream",
     "text": [
      "(50000, 28, 28) (50000,)\n"
     ]
    },
    {
     "data": {
      "image/png": "[encoded data removed]",
      "text/plain": [
       "<matplotlib.figure.Figure at 0x7f4b5eebf7b8>"
      ]
     },
     "metadata": {},
     "output_type": "display_data"
    }
   ],
   "source": [
    "from preprocessed_mnist import load_dataset\n",
    "X_train, y_train, X_val, y_val, X_test, y_test = load_dataset()\n",
    "print(X_train.shape, y_train.shape)\n",
    "import matplotlib.pyplot as plt\n",
    "%matplotlib inline\n",
    "plt.imshow(X_train[0], cmap=\"Greys\");"
   ]
  },
  {
   "cell_type": "code",
   "execution_count": 2,
   "metadata": {},
   "outputs": [],
   "source": [
    "import tensorflow as tf\n",
    "import numpy as np\n",
    "from tqdm import trange"
   ]
  },
  {
   "cell_type": "code",
   "execution_count": 14,
   "metadata": {},
   "outputs": [],
   "source": [
    "def transformed(x, y):\n",
    "    x_trans = np.reshape(x,[x.shape[0], -1])\n",
    "    y_trans = (np.arange(num_labels) == y[:,None]).astype(np.float32)\n",
    "    return x_trans, y_trans"
   ]
  },
  {
   "cell_type": "code",
   "execution_count": 15,
   "metadata": {},
   "outputs": [],
   "source": [
    "def iterate_minibatches(inputs, targets, batchsize):\n",
    "    indices = np.random.permutation(len(inputs))\n",
    "    for start_idx in trange(0, len(inputs) - batchsize + 1, batchsize):\n",
    "        excerpt = indices[start_idx:start_idx + batchsize]\n",
    "        yield inputs[excerpt], targets[excerpt]"
   ]
  },
  {
   "cell_type": "code",
   "execution_count": 16,
   "metadata": {},
   "outputs": [],
   "source": [
    "def accuracy(predictions, labels):\n",
    "    return (100.0 * np.sum(np.argmax(predictions, 1) == np.argmax(labels, 1))\n",
    "            / predictions.shape[0])"
   ]
  },
  {
   "cell_type": "code",
   "execution_count": 17,
   "metadata": {},
   "outputs": [],
   "source": [
    "# Initialize shape vars\n",
    "tf.reset_default_graph()\n",
    "num_features = X_train.shape[1]*X_train.shape[2]\n",
    "num_neurons_layer_1 = 256\n",
    "num_labels = 10"
   ]
  },
  {
   "cell_type": "code",
   "execution_count": 18,
   "metadata": {},
   "outputs": [],
   "source": [
    "# Reformat data (flattened)\n",
    "X_train_reformated, y_train_reformated = transformed(X_train, y_train)\n",
    "X_val_reformated, y_val_reformated = transformed(X_val, y_val)\n",
    "X_test_reformated, y_test_reformated = transformed(X_test, y_test)"
   ]
  },
  {
   "cell_type": "code",
   "execution_count": 19,
   "metadata": {},
   "outputs": [],
   "source": [
    "# Model parameters - weights and bias\n",
    "W1 = tf.get_variable(\"Weights1\", [num_features, num_neurons_layer_1], \n",
    "                     initializer = tf.contrib.layers.xavier_initializer(seed = 1))\n",
    "b1 = tf.get_variable(\"biases1\", [num_neurons_layer_1], initializer = tf.zeros_initializer())\n",
    "\n",
    "W2 = tf.get_variable(\"Weights2\", [num_neurons_layer_1, num_labels], \n",
    "                     initializer = tf.contrib.layers.xavier_initializer(seed = 1),\n",
    "                     regularizer = tf.contrib.layers.l2_regularizer(scale=0.25))\n",
    "b2 = tf.get_variable(\"biases2\", [num_labels], initializer = tf.zeros_initializer())"
   ]
  },
  {
   "cell_type": "code",
   "execution_count": 20,
   "metadata": {},
   "outputs": [],
   "source": [
    "# Placeholders for the input data\n",
    "input_X = tf.placeholder(tf.float32, shape=[None, num_features])\n",
    "input_y = tf.placeholder(tf.float32, shape=[None, num_labels])"
   ]
  },
  {
   "cell_type": "code",
   "execution_count": 21,
   "metadata": {},
   "outputs": [
    {
     "name": "stdout",
     "output_type": "stream",
     "text": [
      "WARNING:tensorflow:From <ipython-input-21-ab5a5d21617b>:7: softmax_cross_entropy_with_logits (from tensorflow.python.ops.nn_ops) is deprecated and will be removed in a future version.\n",
      "Instructions for updating:\n",
      "\n",
      "Future major versions of TensorFlow will allow gradients to flow\n",
      "into the labels input on backprop by default.\n",
      "\n",
      "See tf.nn.softmax_cross_entropy_with_logits_v2.\n",
      "\n"
     ]
    }
   ],
   "source": [
    "# The model code\n",
    "hidden_layer_1 = tf.nn.relu(tf.matmul(input_X, W1) + b1)\n",
    "\n",
    "prediction_y = tf.nn.softmax(tf.matmul(hidden_layer_1, W2) + b2)\n",
    "\n",
    "loss = tf.reduce_mean(\n",
    "    tf.nn.softmax_cross_entropy_with_logits(logits=prediction_y, labels=input_y))\n",
    "\n",
    "optimizer = tf.train.AdamOptimizer(0.001, 0.70, 0.90).minimize(loss)"
   ]
  },
  {
   "cell_type": "code",
   "execution_count": null,
   "metadata": {},
   "outputs": [
    {
     "name": "stderr",
     "output_type": "stream",
     "text": [
      "100%|██████████| 384/384 [00:02<00:00, 135.72it/s]\n",
      "  4%|▍         | 16/384 [00:00<00:02, 151.09it/s]"
     ]
    },
    {
     "name": "stdout",
     "output_type": "stream",
     "text": [
      "Epoch: 0 - Train accuracy: 93.466, Val accuracy: 93.72\n"
     ]
    },
    {
     "name": "stderr",
     "output_type": "stream",
     "text": [
      "100%|██████████| 384/384 [00:02<00:00, 156.58it/s]\n",
      "100%|██████████| 384/384 [00:02<00:00, 158.12it/s]\n",
      "100%|██████████| 384/384 [00:02<00:00, 157.72it/s]\n",
      "100%|██████████| 384/384 [00:02<00:00, 158.68it/s]\n",
      "100%|██████████| 384/384 [00:02<00:00, 157.17it/s]\n",
      "  4%|▍         | 16/384 [00:00<00:02, 152.35it/s]"
     ]
    },
    {
     "name": "stdout",
     "output_type": "stream",
     "text": [
      "Epoch: 5 - Train accuracy: 97.668, Val accuracy: 97.0\n"
     ]
    },
    {
     "name": "stderr",
     "output_type": "stream",
     "text": [
      "100%|██████████| 384/384 [00:02<00:00, 147.02it/s]\n",
      "100%|██████████| 384/384 [00:02<00:00, 148.53it/s]\n",
      "100%|██████████| 384/384 [00:02<00:00, 158.66it/s]\n",
      "100%|██████████| 384/384 [00:02<00:00, 156.32it/s]\n",
      "100%|██████████| 384/384 [00:02<00:00, 138.33it/s]\n",
      "  3%|▎         | 10/384 [00:00<00:03, 96.32it/s]"
     ]
    },
    {
     "name": "stdout",
     "output_type": "stream",
     "text": [
      "Epoch: 10 - Train accuracy: 98.742, Val accuracy: 97.51\n"
     ]
    },
    {
     "name": "stderr",
     "output_type": "stream",
     "text": [
      "100%|██████████| 384/384 [00:02<00:00, 145.95it/s]\n",
      "100%|██████████| 384/384 [00:02<00:00, 138.73it/s]\n",
      "100%|██████████| 384/384 [00:02<00:00, 157.01it/s]\n",
      "100%|██████████| 384/384 [00:02<00:00, 159.21it/s]\n",
      "100%|██████████| 384/384 [00:02<00:00, 143.00it/s]\n",
      "  4%|▍         | 15/384 [00:00<00:02, 149.80it/s]"
     ]
    },
    {
     "name": "stdout",
     "output_type": "stream",
     "text": [
      "Epoch: 15 - Train accuracy: 99.076, Val accuracy: 97.62\n"
     ]
    },
    {
     "name": "stderr",
     "output_type": "stream",
     "text": [
      "100%|██████████| 384/384 [00:02<00:00, 155.81it/s]\n",
      "100%|██████████| 384/384 [00:03<00:00, 127.37it/s]\n",
      "100%|██████████| 384/384 [00:02<00:00, 128.70it/s]\n",
      "100%|██████████| 384/384 [00:02<00:00, 160.27it/s]\n",
      "100%|██████████| 384/384 [00:02<00:00, 133.31it/s]\n",
      "  4%|▍         | 15/384 [00:00<00:02, 149.55it/s]"
     ]
    },
    {
     "name": "stdout",
     "output_type": "stream",
     "text": [
      "Epoch: 20 - Train accuracy: 99.414, Val accuracy: 97.78\n"
     ]
    },
    {
     "name": "stderr",
     "output_type": "stream",
     "text": [
      "100%|██████████| 384/384 [00:02<00:00, 146.72it/s]\n",
      " 81%|████████  | 311/384 [00:02<00:00, 141.43it/s]"
     ]
    }
   ],
   "source": [
    "%%time\n",
    "with tf.Session() as s:\n",
    "    test_cost = []\n",
    "    val_cost = []\n",
    "    s.run(tf.global_variables_initializer())\n",
    "    for epoch in range(26):\n",
    "        for x_batch, y_batch in iterate_minibatches(X_train_reformated,y_train_reformated,batchsize=130):\n",
    "            s.run(optimizer, {input_X: x_batch, input_y: y_batch})\n",
    "\n",
    "        test_cost.append(s.run(loss, {input_X: X_test_reformated, input_y: y_test_reformated}))\n",
    "        val_cost.append(s.run(loss, {input_X: X_val_reformated, input_y: y_val_reformated}))\n",
    "\n",
    "        if epoch % 5 == 0:\n",
    "            train_acc = accuracy(s.run(prediction_y, {input_X: X_train_reformated}), y_train_reformated)\n",
    "            val_acc = accuracy(s.run(prediction_y, {input_X: X_val_reformated}), y_val_reformated)\n",
    "            print(f'Epoch: {epoch} - Train accuracy: {train_acc}, Val accuracy: {val_acc}')\n",
    "\n",
    "    plt.plot(test_cost, label='test')\n",
    "    plt.plot(val_cost, label='val')\n",
    "    plt.ylabel('Cost')\n",
    "    plt.xlabel('Epochs')\n",
    "    plt.legend(loc='best')\n",
    "    plt.grid()\n",
    "\n",
    "    plt.show()\n",
    "    \n",
    "    print(\"Test accuracy: \", \n",
    "          accuracy(s.run(prediction_y, {input_X: X_test_reformated}), y_test_reformated))"
   ]
  },
  {
   "cell_type": "code",
   "execution_count": null,
   "metadata": {
    "collapsed": true
   },
   "outputs": [],
   "source": []
  }
 ],
 "metadata": {
  "kernelspec": {
   "display_name": "Python 3",
   "language": "python",
   "name": "python3"
  },
  "language_info": {
   "codemirror_mode": {
    "name": "ipython",
    "version": 3
   },
   "file_extension": ".py",
   "mimetype": "text/x-python",
   "name": "python",
   "nbconvert_exporter": "python",
   "pygments_lexer": "ipython3",
   "version": "3.6.4"
  }
 },
 "nbformat": 4,
 "nbformat_minor": 2
}

{
 "cells": [
  {
   "cell_type": "code",
   "execution_count": 1,
   "metadata": {},
   "outputs": [
    {
     "name": "stderr",
     "output_type": "stream",
     "text": [
      "/home/sid/anaconda3/lib/python3.6/site-packages/h5py/__init__.py:36: FutureWarning: Conversion of the second argument of issubdtype from `float` to `np.floating` is deprecated. In future, it will be treated as `np.float64 == np.dtype(float).type`.\n",
      "  from ._conv import register_converters as _register_converters\n",
      "Using TensorFlow backend.\n"
     ]
    },
    {
     "name": "stdout",
     "output_type": "stream",
     "text": [
      "(50000, 28, 28) (50000,)\n"
     ]
    },
    {
     "data": {
      "image/png": "[encoded data removed]",
      "text/plain": [
       "<matplotlib.figure.Figure at 0x7f3674290748>"
      ]
     },
     "metadata": {},
     "output_type": "display_data"
    }
   ],
   "source": [
    "from preprocessed_mnist import load_dataset\n",
    "X_train, y_train, X_val, y_val, X_test, y_test = load_dataset()\n",
    "print(X_train.shape, y_train.shape)\n",
    "import matplotlib.pyplot as plt\n",
    "%matplotlib inline\n",
    "plt.imshow(X_train[0], cmap=\"Greys\");"
   ]
  },
  {
   "cell_type": "code",
   "execution_count": 2,
   "metadata": {},
   "outputs": [],
   "source": [
    "import matplotlib.pyplot as plt\n",
    "%matplotlib inline"
   ]
  },
  {
   "cell_type": "code",
   "execution_count": 3,
   "metadata": {},
   "outputs": [],
   "source": [
    "from keras.models import Sequential\n",
    "from keras.layers import Dense, Dropout, Lambda, Flatten\n",
    "from keras.optimizers import Adam, RMSprop\n",
    "from sklearn.model_selection import train_test_split"
   ]
  },
  {
   "cell_type": "code",
   "execution_count": 4,
   "metadata": {},
   "outputs": [],
   "source": [
    "X_test = X_test.reshape(X_test.shape[0], 784)\n",
    "X_train = X_train.reshape(X_train.shape[0], 784)"
   ]
  },
  {
   "cell_type": "code",
   "execution_count": 5,
   "metadata": {},
   "outputs": [],
   "source": [
    "X_test = X_test/255\n",
    "X_train = X_train/255"
   ]
  },
  {
   "cell_type": "code",
   "execution_count": 38,
   "metadata": {},
   "outputs": [],
   "source": [
    "from keras.utils.np_utils import to_categorical\n",
    "y_train = to_categorical(y_train)\n",
    "num_classes = y_train.shape[1]\n",
    "num_classes\n",
    "y_test = to_categorical(y_test)"
   ]
  },
  {
   "cell_type": "code",
   "execution_count": 8,
   "metadata": {},
   "outputs": [],
   "source": [
    "seed = 43\n",
    "import numpy as np\n",
    "np.random.seed(seed)"
   ]
  },
  {
   "cell_type": "code",
   "execution_count": 9,
   "metadata": {},
   "outputs": [
    {
     "data": {
      "text/plain": [
       "(50000, 784)"
      ]
     },
     "execution_count": 9,
     "metadata": {},
     "output_type": "execute_result"
    }
   ],
   "source": [
    "X_train.shape"
   ]
  },
  {
   "cell_type": "code",
   "execution_count": 27,
   "metadata": {},
   "outputs": [],
   "source": [
    "from keras.models import Sequential\n",
    "from keras.layers import Dense, Dropout"
   ]
  },
  {
   "cell_type": "code",
   "execution_count": 28,
   "metadata": {},
   "outputs": [],
   "source": [
    "model = Sequential()\n",
    "model.add(Dense(128, activation='relu', input_dim=(28*28)))\n",
    "model.add(Dropout(0.1))\n",
    "model.add(Dense(256, activation='relu'))\n",
    "model.add(Dropout(0.2))\n",
    "model.add(Dense(10, activation='softmax'))"
   ]
  },
  {
   "cell_type": "code",
   "execution_count": 29,
   "metadata": {},
   "outputs": [],
   "source": [
    "from keras.optimizers import RMSprop"
   ]
  },
  {
   "cell_type": "code",
   "execution_count": 30,
   "metadata": {},
   "outputs": [],
   "source": [
    "model.compile(optimizer=RMSprop(lr=0.001),\n",
    "             loss='categorical_crossentropy',\n",
    "             metrics=['accuracy'])"
   ]
  },
  {
   "cell_type": "code",
   "execution_count": 31,
   "metadata": {},
   "outputs": [
    {
     "name": "stdout",
     "output_type": "stream",
     "text": [
      "Train on 47500 samples, validate on 2500 samples\n",
      "Epoch 1/30\n",
      "47500/47500 [==============================] - 5s 111us/step - loss: 1.1356 - acc: 0.6315 - val_loss: 0.6167 - val_acc: 0.8144\n",
      "Epoch 2/30\n",
      "47500/47500 [==============================] - 5s 105us/step - loss: 0.5050 - acc: 0.8457 - val_loss: 0.3985 - val_acc: 0.8816\n",
      "Epoch 3/30\n",
      "47500/47500 [==============================] - 5s 107us/step - loss: 0.3803 - acc: 0.8874 - val_loss: 0.3507 - val_acc: 0.8932\n",
      "Epoch 4/30\n",
      "47500/47500 [==============================] - 5s 114us/step - loss: 0.3227 - acc: 0.9050 - val_loss: 0.3144 - val_acc: 0.9028\n",
      "Epoch 5/30\n",
      "47500/47500 [==============================] - 5s 111us/step - loss: 0.2820 - acc: 0.9163 - val_loss: 0.2621 - val_acc: 0.9240\n",
      "Epoch 6/30\n",
      "47500/47500 [==============================] - 6s 127us/step - loss: 0.2481 - acc: 0.9252 - val_loss: 0.2441 - val_acc: 0.9252\n",
      "Epoch 7/30\n",
      "47500/47500 [==============================] - 6s 117us/step - loss: 0.2200 - acc: 0.9341 - val_loss: 0.2179 - val_acc: 0.9336\n",
      "Epoch 8/30\n",
      "47500/47500 [==============================] - 4s 92us/step - loss: 0.1972 - acc: 0.9408 - val_loss: 0.2057 - val_acc: 0.9396\n",
      "Epoch 9/30\n",
      "47500/47500 [==============================] - 5s 97us/step - loss: 0.1839 - acc: 0.9449 - val_loss: 0.2022 - val_acc: 0.9392\n",
      "Epoch 10/30\n",
      "47500/47500 [==============================] - 5s 95us/step - loss: 0.1673 - acc: 0.9497 - val_loss: 0.1831 - val_acc: 0.9444\n",
      "Epoch 11/30\n",
      "47500/47500 [==============================] - 5s 100us/step - loss: 0.1598 - acc: 0.9525 - val_loss: 0.1830 - val_acc: 0.9408\n",
      "Epoch 12/30\n",
      "47500/47500 [==============================] - 5s 100us/step - loss: 0.1487 - acc: 0.9554 - val_loss: 0.1678 - val_acc: 0.9496\n",
      "Epoch 13/30\n",
      "47500/47500 [==============================] - 5s 114us/step - loss: 0.1414 - acc: 0.9580 - val_loss: 0.1697 - val_acc: 0.9520\n",
      "Epoch 14/30\n",
      "47500/47500 [==============================] - 5s 116us/step - loss: 0.1337 - acc: 0.9602 - val_loss: 0.1609 - val_acc: 0.9524\n",
      "Epoch 15/30\n",
      "47500/47500 [==============================] - 6s 124us/step - loss: 0.1260 - acc: 0.9617 - val_loss: 0.1577 - val_acc: 0.9540\n",
      "Epoch 16/30\n",
      "47500/47500 [==============================] - 5s 95us/step - loss: 0.1208 - acc: 0.9633 - val_loss: 0.1556 - val_acc: 0.9516\n",
      "Epoch 17/30\n",
      "47500/47500 [==============================] - 5s 99us/step - loss: 0.1155 - acc: 0.9651 - val_loss: 0.1537 - val_acc: 0.9560\n",
      "Epoch 18/30\n",
      "47500/47500 [==============================] - 6s 116us/step - loss: 0.1118 - acc: 0.9660 - val_loss: 0.1425 - val_acc: 0.9580\n",
      "Epoch 19/30\n",
      "47500/47500 [==============================] - 6s 116us/step - loss: 0.1061 - acc: 0.9681 - val_loss: 0.1502 - val_acc: 0.9588\n",
      "Epoch 20/30\n",
      "47500/47500 [==============================] - 5s 110us/step - loss: 0.1042 - acc: 0.9691 - val_loss: 0.1510 - val_acc: 0.9568\n",
      "Epoch 21/30\n",
      "47500/47500 [==============================] - 5s 115us/step - loss: 0.1010 - acc: 0.9702 - val_loss: 0.1429 - val_acc: 0.9628\n",
      "Epoch 22/30\n",
      "47500/47500 [==============================] - 5s 113us/step - loss: 0.0983 - acc: 0.9712 - val_loss: 0.1428 - val_acc: 0.9584\n",
      "Epoch 23/30\n",
      "47500/47500 [==============================] - 6s 116us/step - loss: 0.0953 - acc: 0.9718 - val_loss: 0.1438 - val_acc: 0.9616\n",
      "Epoch 24/30\n",
      "47500/47500 [==============================] - 5s 109us/step - loss: 0.0936 - acc: 0.9727 - val_loss: 0.1519 - val_acc: 0.9592\n",
      "Epoch 25/30\n",
      "47500/47500 [==============================] - 5s 109us/step - loss: 0.0879 - acc: 0.9741 - val_loss: 0.1469 - val_acc: 0.9600\n",
      "Epoch 26/30\n",
      "47500/47500 [==============================] - 6s 123us/step - loss: 0.0868 - acc: 0.9740 - val_loss: 0.1404 - val_acc: 0.9648\n",
      "Epoch 27/30\n",
      "47500/47500 [==============================] - 7s 143us/step - loss: 0.0832 - acc: 0.9757 - val_loss: 0.1410 - val_acc: 0.9624\n",
      "Epoch 28/30\n",
      "47500/47500 [==============================] - 6s 120us/step - loss: 0.0818 - acc: 0.9761 - val_loss: 0.1363 - val_acc: 0.9656\n",
      "Epoch 29/30\n",
      "47500/47500 [==============================] - 5s 114us/step - loss: 0.0807 - acc: 0.9752 - val_loss: 0.1451 - val_acc: 0.9636\n",
      "Epoch 30/30\n",
      "47500/47500 [==============================] - 5s 114us/step - loss: 0.0795 - acc: 0.9765 - val_loss: 0.1438 - val_acc: 0.9664\n"
     ]
    }
   ],
   "source": [
    "history=model.fit(X_train, y_train, validation_split=0.05,\n",
    "                 epochs=30, batch_size=64)"
   ]
  },
  {
   "cell_type": "code",
   "execution_count": 32,
   "metadata": {},
   "outputs": [
    {
     "data": {
      "text/plain": [
       "dict_keys(['val_loss', 'val_acc', 'loss', 'acc'])"
      ]
     },
     "execution_count": 32,
     "metadata": {},
     "output_type": "execute_result"
    }
   ],
   "source": [
    "history_dict = history.history\n",
    "history_dict.keys()"
   ]
  },
  {
   "cell_type": "code",
   "execution_count": 33,
   "metadata": {},
   "outputs": [],
   "source": [
    "loss_values = history_dict['loss']\n",
    "val_loss_values = history_dict['val_loss']\n",
    "epochs = range(1, len(loss_values) + 1)"
   ]
  },
  {
   "cell_type": "code",
   "execution_count": 34,
   "metadata": {},
   "outputs": [
    {
     "data": {
      "text/plain": [
       "Text(0,0.5,'Loss')"
      ]
     },
     "execution_count": 34,
     "metadata": {},
     "output_type": "execute_result"
    },
    {
     "data": {
      "image/png": "[encoded data removed]",
      "text/plain": [
       "<matplotlib.figure.Figure at 0x7f35e110cf28>"
      ]
     },
     "metadata": {},
     "output_type": "display_data"
    }
   ],
   "source": [
    "plt.plot(epochs, loss_values, 'bo')\n",
    "plt.plot(epochs, val_loss_values, 'b+')\n",
    "plt.xlabel('Epochs')\n",
    "plt.ylabel('Loss')"
   ]
  },
  {
   "cell_type": "code",
   "execution_count": 35,
   "metadata": {},
   "outputs": [],
   "source": [
    "acc_values = history_dict['acc']\n",
    "val_acc_values = history_dict['val_acc']"
   ]
  },
  {
   "cell_type": "code",
   "execution_count": 36,
   "metadata": {},
   "outputs": [
    {
     "data": {
      "image/png": "[encoded data removed]",
      "text/plain": [
       "<matplotlib.figure.Figure at 0x7f35e1cdd470>"
      ]
     },
     "metadata": {},
     "output_type": "display_data"
    }
   ],
   "source": [
    "plt.plot(epochs, acc_values, 'bo')\n",
    "plt.plot(epochs, val_acc_values, 'b+')\n",
    "plt.xlabel('Epochs')\n",
    "plt.ylabel('Accuracy')\n",
    "\n",
    "plt.show()"
   ]
  },
  {
   "cell_type": "code",
   "execution_count": 39,
   "metadata": {},
   "outputs": [
    {
     "name": "stdout",
     "output_type": "stream",
     "text": [
      "10000/10000 [==============================] - 1s 60us/step\n",
      "\n",
      "Loss, Accuracy =  [0.10258799675351474, 0.9728]\n"
     ]
    }
   ],
   "source": [
    "print(\"\\nLoss, Accuracy = \", model.evaluate(X_test, y_test))"
   ]
  },
  {
   "cell_type": "code",
   "execution_count": 40,
   "metadata": {},
   "outputs": [
    {
     "name": "stdout",
     "output_type": "stream",
     "text": [
      "\n",
      "Test accuracy: 97.28 %\n"
     ]
    }
   ],
   "source": [
    "# Test score...\n",
    "test_predictions = model.predict_proba(X_test).argmax(axis=-1)\n",
    "test_answers = y_test.argmax(axis=-1)\n",
    "\n",
    "test_accuracy = np.mean(test_predictions==test_answers)\n",
    "\n",
    "print(\"\\nTest accuracy: {} %\".format(test_accuracy*100))"
   ]
  },
  {
   "cell_type": "code",
   "execution_count": null,
   "metadata": {},
   "outputs": [],
   "source": []
  }
 ],
 "metadata": {
  "kernelspec": {
   "display_name": "Python 3",
   "language": "python",
   "name": "python3"
  },
  "language_info": {
   "codemirror_mode": {
    "name": "ipython",
    "version": 3
   },
   "file_extension": ".py",
   "mimetype": "text/x-python",
   "name": "python",
   "nbconvert_exporter": "python",
   "pygments_lexer": "ipython3",
   "version": "3.6.4"
  }
 },
 "nbformat": 4,
 "nbformat_minor": 2
}
